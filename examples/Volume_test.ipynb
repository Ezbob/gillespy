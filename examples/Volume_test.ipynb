{
 "metadata": {
  "name": "",
  "signature": "sha256:397c73e4ba301a278e9a254451b7296f1b3f39914bbbe1d0b5bf6b0a1a2ada42"
 },
 "nbformat": 3,
 "nbformat_minor": 0,
 "worksheets": [
  {
   "cells": [
    {
     "cell_type": "code",
     "collapsed": false,
     "input": [
      "import sys\n",
      "sys.path[:0] = ['..']\n",
      "import gillespy\n",
      "import time"
     ],
     "language": "python",
     "metadata": {},
     "outputs": [],
     "prompt_number": 1
    },
    {
     "cell_type": "code",
     "collapsed": false,
     "input": [
      "class Simple1(gillespy.Model):\n",
      "    \"\"\"\n",
      "    This is a simple example for mass-action degradation of species S.\n",
      "    \"\"\"\n",
      "\n",
      "    def __init__(self, parameter_values=None,volume=1.0):\n",
      "\n",
      "        # Initialize the model.\n",
      "        gillespy.Model.__init__(self, name=\"simple1\", volume=volume)\n",
      "        \n",
      "        # Parameters\n",
      "        k1 = gillespy.Parameter(name='k1', expression=0.03)\n",
      "        self.add_parameter(k1)\n",
      "        \n",
      "        # Species\n",
      "        r1 = gillespy.Species(name='r1', initial_value=100)\n",
      "        self.add_species(r1)\n",
      "        r2 = gillespy.Species(name='r2', initial_value=100)\n",
      "        self.add_species(r2)\n",
      "        \n",
      "        \n",
      "        # Reactions\n",
      "        rxn1 = gillespy.Reaction(\n",
      "                name = 'r1d',\n",
      "                reactants = {r1:2},\n",
      "                products = {},\n",
      "                rate = k1 )\n",
      "                \n",
      "        self.add_reaction(rxn1)\n",
      "        \n",
      "        rxn2 = gillespy.Reaction(\n",
      "                name = 'r2d',\n",
      "                reactants = {r2:2},\n",
      "                products = {},\n",
      "                propensity_function = 'k1/2 * r2*(r2-1)/vol' )\n",
      "                \n",
      "        self.add_reaction(rxn2)\n",
      "        self.timespan(numpy.linspace(0,100,101))"
     ],
     "language": "python",
     "metadata": {},
     "outputs": [],
     "prompt_number": 7
    },
    {
     "cell_type": "code",
     "collapsed": false,
     "input": [
      "simple_1 = Simple1(volume=1)\n",
      "simple_10 = Simple1(volume=10)\n",
      "num_trajectories = 1\n",
      "\n",
      "tick = time.time()\n",
      "simple_1trajectories = simple_1.run(number_of_trajectories = num_trajectories, stochkit_home=\"/Applications/StochSS-1.6/StochSSserver.app/Contents/Resources/StochKit/\")\n",
      "print 'vol=1\\t',time.time() - tick\n",
      "\n",
      "tick = time.time()\n",
      "simple_10trajectories = simple_10.run(number_of_trajectories = num_trajectories, stochkit_home=\"/Applications/StochSS-1.6/StochSSserver.app/Contents/Resources/StochKit/\")\n",
      "print 'vol=10\\t',time.time() - tick\n"
     ],
     "language": "python",
     "metadata": {},
     "outputs": [
      {
       "output_type": "stream",
       "stream": "stdout",
       "text": [
        "vol=1\t4.82005500793\n",
        "vol=10\t"
       ]
      },
      {
       "output_type": "stream",
       "stream": "stdout",
       "text": [
        "4.40197014809\n"
       ]
      }
     ],
     "prompt_number": 8
    },
    {
     "cell_type": "code",
     "collapsed": false,
     "input": [
      "print simple_10.serialize()"
     ],
     "language": "python",
     "metadata": {},
     "outputs": [
      {
       "output_type": "stream",
       "stream": "stdout",
       "text": [
        "<Model>\n",
        "  <Description></Description>\n",
        "  <NumberOfReactions>2</NumberOfReactions>\n",
        "  <NumberOfSpecies>2</NumberOfSpecies>\n",
        "  <SpeciesList>\n",
        "    <Species>\n",
        "      <Id>r1</Id>\n",
        "      <InitialPopulation>100</InitialPopulation>\n",
        "    </Species>\n",
        "    <Species>\n",
        "      <Id>r2</Id>\n",
        "      <InitialPopulation>100</InitialPopulation>\n",
        "    </Species>\n",
        "  </SpeciesList>\n",
        "  <ParametersList>\n",
        "    <Parameter>\n",
        "      <Id>k1</Id>\n",
        "      <Expression>0.03</Expression>\n",
        "    </Parameter>\n",
        "    <Parameter>\n",
        "      <Id>vol</Id>\n",
        "      <Expression>10.0</Expression>\n",
        "    </Parameter>\n",
        "  </ParametersList>\n",
        "  <ReactionsList>\n",
        "    <Reaction>\n",
        "      <Id>r1d</Id>\n",
        "      <Description/>\n",
        "      <Type>customized</Type>\n",
        "      <PropensityFunction>0.5*k1*r1*(r1-1)/vol</PropensityFunction>\n",
        "      <Reactants>\n",
        "        <SpeciesReference id=\"r1\" stoichiometry=\"2\"/>\n",
        "      </Reactants>\n",
        "      <Products/>\n",
        "    </Reaction>\n",
        "    <Reaction>\n",
        "      <Id>r2d</Id>\n",
        "      <Description/>\n",
        "      <Type>customized</Type>\n",
        "      <PropensityFunction>k1/2 * r2*(r2-1)/vol</PropensityFunction>\n",
        "      <Reactants>\n",
        "        <SpeciesReference id=\"r2\" stoichiometry=\"2\"/>\n",
        "      </Reactants>\n",
        "      <Products/>\n",
        "    </Reaction>\n",
        "  </ReactionsList>\n",
        "</Model>\n",
        "\n"
       ]
      }
     ],
     "prompt_number": 9
    },
    {
     "cell_type": "code",
     "collapsed": false,
     "input": [
      "from matplotlib import gridspec\n",
      "\n",
      "gs = gridspec.GridSpec(1,1)\n",
      "\n",
      "plt.figure()\n",
      "ax0 = plt.subplot(gs[0,0])\n",
      "\n",
      "# extract time values\n",
      "t = np.array(simple_1trajectories[0][:,0]) \n",
      "\n",
      "# extract just the trajectories for S into a numpy array\n",
      "\n",
      "#plot mean\n",
      "ax0.plot(t,simple_1trajectories[0][:,1],'k--',label='ma')\n",
      "ax0.plot(t,simple_1trajectories[0][:,2],'g+',label='custom')\n",
      "\n",
      "ax0.legend()\n",
      "ax0.set_xlabel('Time')\n",
      "ax0.set_ylabel('Species r Count')\n",
      "\n",
      "plt.tight_layout()\n",
      "plt.show()"
     ],
     "language": "python",
     "metadata": {},
     "outputs": [
      {
       "metadata": {},
       "output_type": "display_data",
       "png": "[encoded data removed]",
       "text": [
        "<matplotlib.figure.Figure at 0x1060d7390>"
       ]
      }
     ],
     "prompt_number": 10
    },
    {
     "cell_type": "code",
     "collapsed": false,
     "input": [
      "gs = gridspec.GridSpec(1,1)\n",
      "\n",
      "plt.figure()\n",
      "ax0 = plt.subplot(gs[0,0])\n",
      "\n",
      "# extract time values\n",
      "t = np.array(simple_10trajectories[0][:,0]) \n",
      "\n",
      "# extract just the trajectories for S into a numpy array\n",
      "\n",
      "#plot mean\n",
      "ax0.plot(t,simple_10trajectories[0][:,1],'k--',label='ma')\n",
      "ax0.plot(t,simple_10trajectories[0][:,2],'g+',label='custom')\n",
      "\n",
      "ax0.legend()\n",
      "ax0.set_xlabel('Time')\n",
      "ax0.set_ylabel('Species r Count')\n",
      "\n",
      "plt.tight_layout()\n",
      "plt.show()"
     ],
     "language": "python",
     "metadata": {},
     "outputs": [
      {
       "metadata": {},
       "output_type": "display_data",
       "png": "[encoded data removed]",
       "text": [
        "<matplotlib.figure.Figure at 0x105380a10>"
       ]
      }
     ],
     "prompt_number": 11
    },
    {
     "cell_type": "code",
     "collapsed": false,
     "input": [],
     "language": "python",
     "metadata": {},
     "outputs": [],
     "prompt_number": 6
    }
   ],
   "metadata": {}
  }
 ]
}