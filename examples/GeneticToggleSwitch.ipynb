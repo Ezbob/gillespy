{
 "metadata": {
  "name": "",
  "signature": "sha256:8b0bcd9b02c05061b1ece0660adc3626396a201fa5ee70eeed6800a97aa3a159"
 },
 "nbformat": 3,
 "nbformat_minor": 0,
 "worksheets": [
  {
   "cells": [
    {
     "cell_type": "code",
     "collapsed": false,
     "input": [
      "import sys,os\n",
      "sys.path[:0] = ['..']"
     ],
     "language": "python",
     "metadata": {},
     "outputs": [],
     "prompt_number": 9
    },
    {
     "cell_type": "code",
     "collapsed": false,
     "input": [
      "os.path.abspath(gillespy.__file__)"
     ],
     "language": "python",
     "metadata": {},
     "outputs": [
      {
       "metadata": {},
       "output_type": "pyout",
       "prompt_number": 10,
       "text": [
        "'/Users/brian/Desktop/research/GillesPy/gillespy/__init__.pyc'"
       ]
      }
     ],
     "prompt_number": 10
    },
    {
     "cell_type": "code",
     "collapsed": false,
     "input": [
      "import gillespy\n",
      "class ToggleSwitch(gillespy.Model):\n",
      "    \"\"\" Gardner et al. Nature (1999)\n",
      "    'Construction of a genetic toggle switch in Escherichia coli'\n",
      "    \"\"\"\n",
      "    def __init__(self, parameter_values=None):\n",
      "        # Initialize the model.\n",
      "        gillespy.Model.__init__(self, name=\"toggle_switch\")\n",
      "        # Parameters\n",
      "        alpha1 = gillespy.Parameter(name='alpha1', expression=1)\n",
      "        alpha2 = gillespy.Parameter(name='alpha2', expression=1)\n",
      "        beta = gillespy.Parameter(name='beta', expression=\"2.0\")\n",
      "        gamma = gillespy.Parameter(name='gamma', expression=\"2.0\")\n",
      "        mu = gillespy.Parameter(name='mu', expression=1.0)\n",
      "        self.add_parameter([alpha1, alpha2, beta, gamma, mu])\n",
      "\n",
      "        # Species\n",
      "        U = gillespy.Species(name='U', initial_value=10)\n",
      "        V = gillespy.Species(name='V', initial_value=10)\n",
      "        self.add_species([U, V])\n",
      "\n",
      "        # Reactions\n",
      "        cu = gillespy.Reaction(name=\"r1\",reactants={}, products={U:1},\n",
      "                propensity_function=\"alpha1/(1+pow(V,beta))\")\n",
      "        cv = gillespy.Reaction(name=\"r2\",reactants={}, products={V:1},\n",
      "                propensity_function=\"alpha2/(1+pow(U,gamma))\")\n",
      "        du = gillespy.Reaction(name=\"r3\",reactants={U:1}, products={},\n",
      "                rate=mu)\n",
      "        dv = gillespy.Reaction(name=\"r4\",reactants={V:1}, products={},\n",
      "                rate=mu)\n",
      "        self.add_reaction([cu,cv,du,dv])\n",
      "        self.timespan(numpy.linespance(0,100,101))"
     ],
     "language": "python",
     "metadata": {},
     "outputs": [],
     "prompt_number": 14
    },
    {
     "cell_type": "code",
     "collapsed": false,
     "input": [
      "model = ToggleSwitch()"
     ],
     "language": "python",
     "metadata": {},
     "outputs": [],
     "prompt_number": 12
    },
    {
     "cell_type": "code",
     "collapsed": false,
     "input": [
      "%time results = gillespy.StochKitSolver.run(model, t=20, seed=101010101, algorithm='ssa', number_of_trajectories=1, stochkit_home=\"/Applications/StochSS-1.6/StochSSserver.app/Contents/Resources/StochKit/\")"
     ],
     "language": "python",
     "metadata": {},
     "outputs": [
      {
       "output_type": "stream",
       "stream": "stdout",
       "text": [
        "CPU times: user 6.5 ms, sys: 6.29 ms, total: 12.8 ms\n",
        "Wall time: 6.56 s\n"
       ]
      }
     ],
     "prompt_number": 13
    },
    {
     "cell_type": "code",
     "collapsed": false,
     "input": [
      "plt.plot(results[0][:,0],results[0][:,1],'-r', label='U')\n",
      "plt.plot(results[0][:,0],results[0][:,2],'-b', label='V')\n",
      "plt.plot([0],[11])\n",
      "plt.legend(loc='best')"
     ],
     "language": "python",
     "metadata": {},
     "outputs": [
      {
       "metadata": {},
       "output_type": "pyout",
       "prompt_number": 89,
       "text": [
        "<matplotlib.legend.Legend at 0x10679dfd0>"
       ]
      },
      {
       "metadata": {},
       "output_type": "display_data",
       "png": "[encoded data removed]",
       "text": [
        "<matplotlib.figure.Figure at 0x1067e1d10>"
       ]
      }
     ],
     "prompt_number": 89
    },
    {
     "cell_type": "code",
     "collapsed": false,
     "input": [
      "# methods: DM, ODM, ConstantTime, NRM\n",
      "%time results = gillespy.StochKitSolver.run(model, t=20, seed=101010101, algorithm='ssa', \\\n",
      "                                            number_of_trajectories=1, \\\n",
      "                                            stochkit_home=\"/Users/brian/Desktop/research/StochKit/\",\\\n",
      "                                            method='ConstantTime')\n"
     ],
     "language": "python",
     "metadata": {},
     "outputs": [
      {
       "output_type": "stream",
       "stream": "stdout",
       "text": [
        "CPU times: user 4.74 ms, sys: 5.77 ms, total: 10.5 ms\n",
        "Wall time: 15.8 s\n"
       ]
      }
     ],
     "prompt_number": 11
    },
    {
     "cell_type": "code",
     "collapsed": false,
     "input": [],
     "language": "python",
     "metadata": {},
     "outputs": []
    }
   ],
   "metadata": {}
  }
 ]
}